{
 "cells": [
  {
   "cell_type": "markdown",
   "metadata": {},
   "source": [
    "# Depth First Search Algorithm"
   ]
  },
  {
   "cell_type": "code",
   "execution_count": 1,
   "metadata": {},
   "outputs": [
    {
     "name": "stdout",
     "output_type": "stream",
     "text": [
      "Visited: A\n",
      "Visited: B\n",
      "Visited: D\n",
      "Visited: E\n",
      "Visited: C\n",
      "Goal F found!\n"
     ]
    }
   ],
   "source": [
    "def dfs(graph, start, goal):\n",
    "\t# Initialize stack and visited list\n",
    "\tstack = [start]\n",
    "\tvisited = set()\n",
    "\n",
    "\twhile stack: # if stack is not empty do the following\n",
    "\t\t# Pop the top node\n",
    "\t\tcurrent_node = stack.pop()\n",
    "\t\t\n",
    "\t\t# If goal is found, return success\n",
    "\t\tif current_node == goal:\n",
    "\t\t\treturn f\"Goal {goal} found!\"\n",
    "\t\t\n",
    "\t\t# If not visited, add to visited set and push neighbors\n",
    "\t\tif current_node not in visited:\n",
    "\t\t\tvisited.add(current_node)\n",
    "\t\t\tprint(f\"Visited: {current_node}\")  # Display visited nodes\n",
    "\t\t\t\n",
    "\t\t\t# for neighbor in ['C', 'B']\n",
    "\t\t\tfor neighbor in reversed(graph[current_node]):  # Reverse to maintain stack order\n",
    "\t\t\t\tif neighbor not in visited:\n",
    "\t\t\t\t\tstack.append(neighbor)\n",
    "\t\n",
    "\treturn \"Goal not found.\"\n",
    "\n",
    "\n",
    "# Example graph represented as an adjacency list\n",
    "graph = {\n",
    "\t'A': ['B', 'C'],\n",
    "\t'B': ['D', 'E'],\n",
    "\t'C': ['F', 'G'],\n",
    "\t'D': [],\n",
    "\t'E': [],\n",
    "\t'F': [],\n",
    "\t'G': []\n",
    "}\n",
    "\n",
    "# Starting DFS\n",
    "start_node = 'A'\n",
    "goal_node = 'F'\n",
    "print(dfs(graph, start_node, goal_node))"
   ]
  },
  {
   "cell_type": "code",
   "execution_count": 2,
   "metadata": {},
   "outputs": [
    {
     "name": "stdout",
     "output_type": "stream",
     "text": [
      "Visited: A\n",
      "Visited: B\n",
      "Visited: D\n",
      "Visited: E\n",
      "Visited: C\n",
      "Goal F found!\n"
     ]
    }
   ],
   "source": []
  }
 ],
 "metadata": {
  "kernelspec": {
   "display_name": "Python 3",
   "language": "python",
   "name": "python3"
  },
  "language_info": {
   "codemirror_mode": {
    "name": "ipython",
    "version": 3
   },
   "file_extension": ".py",
   "mimetype": "text/x-python",
   "name": "python",
   "nbconvert_exporter": "python",
   "pygments_lexer": "ipython3",
   "version": "3.13.1"
  }
 },
 "nbformat": 4,
 "nbformat_minor": 2
}
