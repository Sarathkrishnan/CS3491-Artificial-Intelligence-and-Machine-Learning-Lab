{
 "cells": [
  {
   "cell_type": "markdown",
   "metadata": {},
   "source": [
    "# Depth First Search Algorithm"
   ]
  },
  {
   "cell_type": "code",
   "execution_count": 1,
   "metadata": {},
   "outputs": [
    {
     "name": "stdout",
     "output_type": "stream",
     "text": [
      "Visited: A\n",
      "Visited: B\n",
      "Visited: D\n",
      "Visited: E\n",
      "Visited: C\n",
      "Goal F found!\n"
     ]
    }
   ],
   "source": [
    "def dfs(graph, start, goal):\n",
    "    # Initialize stack and visited list\n",
    "    stack = [start]\n",
    "    visited = set()\n",
    "\n",
    "    while stack:  # if stack is not empty do the following\n",
    "        # Pop the top node\n",
    "        current_node = stack.pop()\n",
    "\n",
    "        # If goal is found, return success\n",
    "        if current_node == goal:\n",
    "            return f\"Goal {goal} found!\"\n",
    "\n",
    "        # If not visited, add to visited set and push neighbors\n",
    "        if current_node not in visited:\n",
    "            visited.add(current_node)\n",
    "            print(f\"Visited: {current_node}\")  # Display visited nodes\n",
    "\n",
    "            # for neighbor in ['C', 'B']\n",
    "            for neighbor in reversed(\n",
    "                graph[current_node]\n",
    "            ):  # Reverse to maintain stack order\n",
    "                if neighbor not in visited:\n",
    "                    stack.append(neighbor)\n",
    "\n",
    "    return \"Goal not found.\"\n",
    "\n",
    "\n",
    "# Example graph represented as an adjacency list\n",
    "graph = {\n",
    "    \"A\": [\"B\", \"C\"],\n",
    "    \"B\": [\"D\", \"E\"],\n",
    "    \"C\": [\"F\", \"G\"],\n",
    "    \"D\": [],\n",
    "    \"E\": [],\n",
    "    \"F\": [],\n",
    "    \"G\": [],\n",
    "}\n",
    "\n",
    "# Starting DFS\n",
    "start_node = \"A\"\n",
    "goal_node = \"F\"\n",
    "print(dfs(graph, start_node, goal_node))"
   ]
  },
  {
   "cell_type": "code",
   "execution_count": 2,
   "metadata": {},
   "outputs": [
    {
     "name": "stdout",
     "output_type": "stream",
     "text": [
      "Visited: A\n",
      "Visited: B\n",
      "Visited: D\n",
      "Visited: E\n",
      "Visited: C\n",
      "Goal F found!\n"
     ]
    }
   ],
   "source": []
  }
 ],
 "metadata": {
  "kernelspec": {
   "display_name": "Python 3",
   "language": "python",
   "name": "python3"
  },
  "language_info": {
   "codemirror_mode": {
    "name": "ipython",
    "version": 3
   },
   "file_extension": ".py",
   "mimetype": "text/x-python",
   "name": "python",
   "nbconvert_exporter": "python",
   "pygments_lexer": "ipython3",
   "version": "3.13.1"
  }
 },
 "nbformat": 4,
 "nbformat_minor": 2
}
