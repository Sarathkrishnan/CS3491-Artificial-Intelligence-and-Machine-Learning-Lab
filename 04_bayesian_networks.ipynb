{
 "cells": [
  {
   "cell_type": "code",
   "execution_count": 1,
   "metadata": {},
   "outputs": [],
   "source": [
    "import numpy as np\n",
    "import pandas as pd"
   ]
  },
  {
   "cell_type": "markdown",
   "metadata": {},
   "source": [
    "* `numpy` is used for numerical computations.\n",
    "* `pandas` is used for handling and processing data in tabular format (like CSV files)."
   ]
  },
  {
   "cell_type": "code",
   "execution_count": 2,
   "metadata": {},
   "outputs": [],
   "source": [
    "\n",
    "from pgmpy.models import BayesianModel"
   ]
  },
  {
   "cell_type": "markdown",
   "metadata": {},
   "source": [
    "* `BayesianModel` is used to define a Bayesian Network, a probabilistic graphical model.\n",
    "* It represents dependencies between different variables using `Directed Acyclic Graphs` (DAGs)."
   ]
  },
  {
   "cell_type": "code",
   "execution_count": 3,
   "metadata": {},
   "outputs": [],
   "source": [
    "from pgmpy.estimators import MaximumLikelihoodEstimator\n",
    "from pgmpy.inference import VariableElimination"
   ]
  },
  {
   "cell_type": "markdown",
   "metadata": {},
   "source": [
    "* `MaximumLikelihoodEstimator` is used to estimate the parameters (probabilities) of the Bayesian Network using Maximum Likelihood Estimation (MLE).\n",
    "* MLE finds the parameter values that maximize the likelihood of the observed data.\n",
    "\n",
    "\n",
    "* `VariableElimination` is an algorithm for probabilistic inference in Bayesian Networks.\n",
    "* It helps answer queries about the model, such as:\n",
    "    * \"What is the probability of disease given symptoms?\"\n",
    "    * \"What is the most likely cause of an event?\""
   ]
  },
  {
   "cell_type": "code",
   "execution_count": null,
   "metadata": {},
   "outputs": [],
   "source": [
    "# Read Cleveland Heart Disease data\n",
    "heartDisease = pd.read_csv(\"04_heart.csv\")\n",
    "heartDisease.replace(\"?\", np.nan, inplace=True)  # Replace '?' with NaN"
   ]
  },
  {
   "cell_type": "markdown",
   "metadata": {},
   "source": [
    "dataset: https://www.kaggle.com/datasets/ritwikb3/heart-disease-cleveland"
   ]
  },
  {
   "cell_type": "code",
   "execution_count": null,
   "metadata": {},
   "outputs": [
    {
     "name": "stdout",
     "output_type": "stream",
     "text": [
      "Few examples from the dataset:\n",
      "   age  sex  cp  trestbps  chol  fbs  restecg  thalach  exang  oldpeak  slope  \\\n",
      "0   63    1   1       145   233    1        2      150      0      2.3      3   \n",
      "1   67    1   4       160   286    0        2      108      1      1.5      2   \n",
      "2   67    1   4       120   229    0        2      129      1      2.6      2   \n",
      "3   37    1   3       130   250    0        0      187      0      3.5      3   \n",
      "4   41    0   2       130   204    0        2      172      0      1.4      1   \n",
      "\n",
      "  ca thal  heartdisease  \n",
      "0  0    6             0  \n",
      "1  3    3             2  \n",
      "2  2    7             1  \n",
      "3  0    3             0  \n",
      "4  0    3             0  \n"
     ]
    }
   ],
   "source": [
    "# Display the first few rows of the dataset\n",
    "print(\"Few examples from the dataset:\")\n",
    "print(heartDisease.head()) # print first 5 rows"
   ]
  },
  {
   "cell_type": "code",
   "execution_count": 6,
   "metadata": {},
   "outputs": [
    {
     "name": "stderr",
     "output_type": "stream",
     "text": [
      "WARNING:pgmpy:BayesianModel has been renamed to BayesianNetwork. Please use BayesianNetwork class, BayesianModel will be removed in future.\n"
     ]
    }
   ],
   "source": [
    "# Define Bayesian Network structure\n",
    "Model = BayesianModel(\n",
    "    [\n",
    "        (\"age\", \"trestbps\"),\n",
    "        (\"age\", \"fbs\"),\n",
    "        (\"sex\", \"trestbps\"),\n",
    "        (\"exang\", \"trestbps\"),\n",
    "        (\"trestbps\", \"heartdisease\"),\n",
    "        (\"fbs\", \"heartdisease\"),\n",
    "        (\"heartdisease\", \"restecg\"),\n",
    "        (\"heartdisease\", \"thalach\"),\n",
    "        (\"heartdisease\", \"chol\"),\n",
    "    ]\n",
    ")"
   ]
  },
  {
   "cell_type": "code",
   "execution_count": 7,
   "metadata": {},
   "outputs": [
    {
     "name": "stdout",
     "output_type": "stream",
     "text": [
      "\n",
      "Learning CPD using Maximum Likelihood Estimators\n"
     ]
    }
   ],
   "source": [
    "# Learning CPDs using Maximum Likelihood Estimators\n",
    "print(\"\\nLearning CPD using Maximum Likelihood Estimators\")\n",
    "Model.fit(heartDisease, estimator=MaximumLikelihoodEstimator)"
   ]
  },
  {
   "cell_type": "code",
   "execution_count": 8,
   "metadata": {},
   "outputs": [],
   "source": [
    "# Inference with Bayesian Network\n",
    "HeartDisease_infer = VariableElimination(Model)"
   ]
  },
  {
   "cell_type": "code",
   "execution_count": 9,
   "metadata": {},
   "outputs": [
    {
     "name": "stdout",
     "output_type": "stream",
     "text": [
      "Unique ages: [63 67 37 41 56 62 57 53 44 52 48 54 49 64 58 60 50 66 43 40 69 59 42 55\n",
      " 61 65 71 51 46 45 39 68 47 34 35 29 70 77 38 74 76]\n",
      "Unique chol values: [233 286 229 250 204 236 268 354 254 203 192 294 256 263 199 168 239 275\n",
      " 266 211 283 284 224 206 219 340 226 247 167 230 335 234 177 276 353 243\n",
      " 225 302 212 330 175 417 197 198 290 253 172 273 213 305 216 304 188 282\n",
      " 185 232 326 231 269 267 248 360 258 308 245 270 208 264 321 274 325 235\n",
      " 257 164 141 252 255 201 222 260 182 303 265 309 307 249 186 341 183 407\n",
      " 217 288 220 209 227 261 174 281 221 205 240 289 318 298 564 246 322 299\n",
      " 300 293 277 214 207 223 160 394 184 315 409 244 195 196 126 313 259 200\n",
      " 262 215 228 193 271 210 327 149 295 306 178 237 218 242 319 166 180 311\n",
      " 278 342 169 187 157 176 241 131]\n"
     ]
    }
   ],
   "source": [
    "print(\"Unique ages:\", heartDisease[\"age\"].unique())\n",
    "print(\"Unique chol values:\", heartDisease[\"chol\"].unique())"
   ]
  },
  {
   "cell_type": "code",
   "execution_count": 13,
   "metadata": {},
   "outputs": [
    {
     "name": "stderr",
     "output_type": "stream",
     "text": [
      "WARNING:pgmpy:BayesianModel has been renamed to BayesianNetwork. Please use BayesianNetwork class, BayesianModel will be removed in future.\n",
      "WARNING:pgmpy:BayesianModel has been renamed to BayesianNetwork. Please use BayesianNetwork class, BayesianModel will be removed in future.\n"
     ]
    },
    {
     "name": "stdout",
     "output_type": "stream",
     "text": [
      "\n",
      "1. Probability of HeartDisease given Age=35\n",
      "+-----------------+---------------------+\n",
      "| heartdisease    |   phi(heartdisease) |\n",
      "+=================+=====================+\n",
      "| heartdisease(0) |              0.7109 |\n",
      "+-----------------+---------------------+\n",
      "| heartdisease(1) |              0.0945 |\n",
      "+-----------------+---------------------+\n",
      "| heartdisease(2) |              0.0233 |\n",
      "+-----------------+---------------------+\n",
      "| heartdisease(3) |              0.1395 |\n",
      "+-----------------+---------------------+\n",
      "| heartdisease(4) |              0.0319 |\n",
      "+-----------------+---------------------+\n"
     ]
    }
   ],
   "source": [
    "# Computing the Probability of HeartDisease given Age=35\n",
    "print(\"\\n1. Probability of HeartDisease given Age=35\")\n",
    "q1 = HeartDisease_infer.query(variables=[\"heartdisease\"], evidence={\"age\": 35})\n",
    "print(q1)"
   ]
  },
  {
   "cell_type": "code",
   "execution_count": 14,
   "metadata": {},
   "outputs": [
    {
     "name": "stderr",
     "output_type": "stream",
     "text": [
      "WARNING:pgmpy:BayesianModel has been renamed to BayesianNetwork. Please use BayesianNetwork class, BayesianModel will be removed in future.\n",
      "WARNING:pgmpy:BayesianModel has been renamed to BayesianNetwork. Please use BayesianNetwork class, BayesianModel will be removed in future.\n"
     ]
    },
    {
     "name": "stdout",
     "output_type": "stream",
     "text": [
      "\n",
      "2. Probability of HeartDisease given Cholesterol=205\n",
      "+-----------------+---------------------+\n",
      "| heartdisease    |   phi(heartdisease) |\n",
      "+=================+=====================+\n",
      "| heartdisease(0) |              0.4926 |\n",
      "+-----------------+---------------------+\n",
      "| heartdisease(1) |              0.0000 |\n",
      "+-----------------+---------------------+\n",
      "| heartdisease(2) |              0.0000 |\n",
      "+-----------------+---------------------+\n",
      "| heartdisease(3) |              0.5074 |\n",
      "+-----------------+---------------------+\n",
      "| heartdisease(4) |              0.0000 |\n",
      "+-----------------+---------------------+\n"
     ]
    }
   ],
   "source": [
    "# Computing the Probability of HeartDisease given Cholesterol=100\n",
    "print(\"\\n2. Probability of HeartDisease given Cholesterol=205\")\n",
    "q2 = HeartDisease_infer.query(variables=[\"heartdisease\"], evidence={\"chol\": 205})\n",
    "print(q2)"
   ]
  }
 ],
 "metadata": {
  "kernelspec": {
   "display_name": "Python 3",
   "language": "python",
   "name": "python3"
  },
  "language_info": {
   "codemirror_mode": {
    "name": "ipython",
    "version": 3
   },
   "file_extension": ".py",
   "mimetype": "text/x-python",
   "name": "python",
   "nbconvert_exporter": "python",
   "pygments_lexer": "ipython3",
   "version": "3.13.1"
  }
 },
 "nbformat": 4,
 "nbformat_minor": 2
}
