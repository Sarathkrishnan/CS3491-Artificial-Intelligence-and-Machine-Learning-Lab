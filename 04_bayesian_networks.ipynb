{
 "cells": [
  {
   "cell_type": "markdown",
   "metadata": {},
   "source": [
    "### **Problem Statement**\n",
    "The problem is to predict the probability of heart disease based on patient data using a **Bayesian Network**.\n",
    "\n",
    "### **Inputs:**\n",
    "- **Dataset:** Cleveland Heart Disease dataset (`04_heart.csv` from Kaggle)\n",
    "- dataset: https://www.kaggle.com/datasets/ritwikb3/heart-disease-cleveland\n",
    "- **Features Used:**\n",
    "  - `age` (Age of the patient)\n",
    "  - `sex` (Gender: 1 = Male, 0 = Female)\n",
    "  - `cp` (Chest pain type)\n",
    "  - `trestbps` (Resting blood pressure)\n",
    "  - `chol` (Cholesterol level)\n",
    "  - `fbs` (Fasting blood sugar)\n",
    "  - `restecg` (Resting ECG results)\n",
    "  - `thalach` (Maximum heart rate achieved)\n",
    "  - `exang` (Exercise-induced angina)\n",
    "  - `oldpeak` (ST depression)\n",
    "  - `slope` (Slope of peak exercise ST segment)\n",
    "  - `ca` (Number of major vessels colored by fluoroscopy)\n",
    "  - `thal` (Thalassemia test result)\n",
    "  - `heartdisease` (Target variable: 0 = No Disease, 1-4 = Different levels of disease)\n",
    "\n",
    "### **Outputs:**\n",
    "- **Bayesian Network Model** trained using Maximum Likelihood Estimation (MLE).\n",
    "- **Probabilistic Inference** using **Variable Elimination** to compute:\n",
    "  1. Probability of `heartdisease` given `age=35`\n",
    "  2. Probability of `heartdisease` given `chol=205`\n",
    "\n",
    "\n",
    "This Bayesian model helps in **diagnosing heart disease risk** based on different health parameters."
   ]
  },
  {
   "cell_type": "code",
   "execution_count": 1,
   "metadata": {},
   "outputs": [],
   "source": [
    "import numpy as np\n",
    "import pandas as pd"
   ]
  },
  {
   "cell_type": "markdown",
   "metadata": {},
   "source": [
    "* `numpy` is used for numerical computations.\n",
    "* `pandas` is used for handling and processing data in tabular format (like CSV files)."
   ]
  },
  {
   "cell_type": "code",
   "execution_count": 2,
   "metadata": {},
   "outputs": [],
   "source": [
    "\n",
    "from pgmpy.models import BayesianModel"
   ]
  },
  {
   "cell_type": "markdown",
   "metadata": {},
   "source": [
    "* `BayesianModel` is used to define a Bayesian Network, a probabilistic graphical model.\n",
    "* It represents dependencies between different variables using `Directed Acyclic Graphs` (DAGs)."
   ]
  },
  {
   "cell_type": "code",
   "execution_count": 3,
   "metadata": {},
   "outputs": [],
   "source": [
    "from pgmpy.estimators import MaximumLikelihoodEstimator\n",
    "from pgmpy.inference import VariableElimination"
   ]
  },
  {
   "cell_type": "markdown",
   "metadata": {},
   "source": [
    "* `MaximumLikelihoodEstimator` is used to estimate the parameters (probabilities) of the Bayesian Network using Maximum Likelihood Estimation (MLE).\n",
    "* MLE finds the parameter values that maximize the likelihood of the observed data.\n",
    "\n",
    "\n",
    "* `VariableElimination` is an algorithm for probabilistic inference in Bayesian Networks.\n",
    "* It helps answer queries about the model, such as:\n",
    "    * \"What is the probability of disease given symptoms?\"\n",
    "    * \"What is the most likely cause of an event?\""
   ]
  },
  {
   "cell_type": "code",
   "execution_count": 4,
   "metadata": {},
   "outputs": [],
   "source": [
    "# Read Cleveland Heart Disease data\n",
    "heartDisease = pd.read_csv(\"04_heart.csv\")\n",
    "heartDisease.replace(\"?\", np.nan, inplace=True)  # Replace '?' with NaN"
   ]
  },
  {
   "cell_type": "code",
   "execution_count": 12,
   "metadata": {},
   "outputs": [
    {
     "name": "stdout",
     "output_type": "stream",
     "text": [
      "Few examples from the dataset:\n"
     ]
    },
    {
     "data": {
      "application/vnd.microsoft.datawrangler.viewer.v0+json": {
       "columns": [
        {
         "name": "index",
         "rawType": "int64",
         "type": "integer"
        },
        {
         "name": "age",
         "rawType": "int64",
         "type": "integer"
        },
        {
         "name": "sex",
         "rawType": "int64",
         "type": "integer"
        },
        {
         "name": "cp",
         "rawType": "int64",
         "type": "integer"
        },
        {
         "name": "trestbps",
         "rawType": "int64",
         "type": "integer"
        },
        {
         "name": "chol",
         "rawType": "int64",
         "type": "integer"
        },
        {
         "name": "fbs",
         "rawType": "int64",
         "type": "integer"
        },
        {
         "name": "restecg",
         "rawType": "int64",
         "type": "integer"
        },
        {
         "name": "thalach",
         "rawType": "int64",
         "type": "integer"
        },
        {
         "name": "exang",
         "rawType": "int64",
         "type": "integer"
        },
        {
         "name": "oldpeak",
         "rawType": "float64",
         "type": "float"
        },
        {
         "name": "slope",
         "rawType": "int64",
         "type": "integer"
        },
        {
         "name": "ca",
         "rawType": "object",
         "type": "string"
        },
        {
         "name": "thal",
         "rawType": "object",
         "type": "string"
        },
        {
         "name": "heartdisease",
         "rawType": "int64",
         "type": "integer"
        }
       ],
       "conversionMethod": "pd.DataFrame",
       "ref": "874cc02b-e8b0-48a4-a5a3-ee36a7d7ddc1",
       "rows": [
        [
         "0",
         "63",
         "1",
         "1",
         "145",
         "233",
         "1",
         "2",
         "150",
         "0",
         "2.3",
         "3",
         "0",
         "6",
         "0"
        ],
        [
         "1",
         "67",
         "1",
         "4",
         "160",
         "286",
         "0",
         "2",
         "108",
         "1",
         "1.5",
         "2",
         "3",
         "3",
         "2"
        ],
        [
         "2",
         "67",
         "1",
         "4",
         "120",
         "229",
         "0",
         "2",
         "129",
         "1",
         "2.6",
         "2",
         "2",
         "7",
         "1"
        ],
        [
         "3",
         "37",
         "1",
         "3",
         "130",
         "250",
         "0",
         "0",
         "187",
         "0",
         "3.5",
         "3",
         "0",
         "3",
         "0"
        ],
        [
         "4",
         "41",
         "0",
         "2",
         "130",
         "204",
         "0",
         "2",
         "172",
         "0",
         "1.4",
         "1",
         "0",
         "3",
         "0"
        ]
       ],
       "shape": {
        "columns": 14,
        "rows": 5
       }
      },
      "text/html": [
       "<div>\n",
       "<style scoped>\n",
       "    .dataframe tbody tr th:only-of-type {\n",
       "        vertical-align: middle;\n",
       "    }\n",
       "\n",
       "    .dataframe tbody tr th {\n",
       "        vertical-align: top;\n",
       "    }\n",
       "\n",
       "    .dataframe thead th {\n",
       "        text-align: right;\n",
       "    }\n",
       "</style>\n",
       "<table border=\"1\" class=\"dataframe\">\n",
       "  <thead>\n",
       "    <tr style=\"text-align: right;\">\n",
       "      <th></th>\n",
       "      <th>age</th>\n",
       "      <th>sex</th>\n",
       "      <th>cp</th>\n",
       "      <th>trestbps</th>\n",
       "      <th>chol</th>\n",
       "      <th>fbs</th>\n",
       "      <th>restecg</th>\n",
       "      <th>thalach</th>\n",
       "      <th>exang</th>\n",
       "      <th>oldpeak</th>\n",
       "      <th>slope</th>\n",
       "      <th>ca</th>\n",
       "      <th>thal</th>\n",
       "      <th>heartdisease</th>\n",
       "    </tr>\n",
       "  </thead>\n",
       "  <tbody>\n",
       "    <tr>\n",
       "      <th>0</th>\n",
       "      <td>63</td>\n",
       "      <td>1</td>\n",
       "      <td>1</td>\n",
       "      <td>145</td>\n",
       "      <td>233</td>\n",
       "      <td>1</td>\n",
       "      <td>2</td>\n",
       "      <td>150</td>\n",
       "      <td>0</td>\n",
       "      <td>2.3</td>\n",
       "      <td>3</td>\n",
       "      <td>0</td>\n",
       "      <td>6</td>\n",
       "      <td>0</td>\n",
       "    </tr>\n",
       "    <tr>\n",
       "      <th>1</th>\n",
       "      <td>67</td>\n",
       "      <td>1</td>\n",
       "      <td>4</td>\n",
       "      <td>160</td>\n",
       "      <td>286</td>\n",
       "      <td>0</td>\n",
       "      <td>2</td>\n",
       "      <td>108</td>\n",
       "      <td>1</td>\n",
       "      <td>1.5</td>\n",
       "      <td>2</td>\n",
       "      <td>3</td>\n",
       "      <td>3</td>\n",
       "      <td>2</td>\n",
       "    </tr>\n",
       "    <tr>\n",
       "      <th>2</th>\n",
       "      <td>67</td>\n",
       "      <td>1</td>\n",
       "      <td>4</td>\n",
       "      <td>120</td>\n",
       "      <td>229</td>\n",
       "      <td>0</td>\n",
       "      <td>2</td>\n",
       "      <td>129</td>\n",
       "      <td>1</td>\n",
       "      <td>2.6</td>\n",
       "      <td>2</td>\n",
       "      <td>2</td>\n",
       "      <td>7</td>\n",
       "      <td>1</td>\n",
       "    </tr>\n",
       "    <tr>\n",
       "      <th>3</th>\n",
       "      <td>37</td>\n",
       "      <td>1</td>\n",
       "      <td>3</td>\n",
       "      <td>130</td>\n",
       "      <td>250</td>\n",
       "      <td>0</td>\n",
       "      <td>0</td>\n",
       "      <td>187</td>\n",
       "      <td>0</td>\n",
       "      <td>3.5</td>\n",
       "      <td>3</td>\n",
       "      <td>0</td>\n",
       "      <td>3</td>\n",
       "      <td>0</td>\n",
       "    </tr>\n",
       "    <tr>\n",
       "      <th>4</th>\n",
       "      <td>41</td>\n",
       "      <td>0</td>\n",
       "      <td>2</td>\n",
       "      <td>130</td>\n",
       "      <td>204</td>\n",
       "      <td>0</td>\n",
       "      <td>2</td>\n",
       "      <td>172</td>\n",
       "      <td>0</td>\n",
       "      <td>1.4</td>\n",
       "      <td>1</td>\n",
       "      <td>0</td>\n",
       "      <td>3</td>\n",
       "      <td>0</td>\n",
       "    </tr>\n",
       "  </tbody>\n",
       "</table>\n",
       "</div>"
      ],
      "text/plain": [
       "   age  sex  cp  trestbps  chol  fbs  restecg  thalach  exang  oldpeak  slope  \\\n",
       "0   63    1   1       145   233    1        2      150      0      2.3      3   \n",
       "1   67    1   4       160   286    0        2      108      1      1.5      2   \n",
       "2   67    1   4       120   229    0        2      129      1      2.6      2   \n",
       "3   37    1   3       130   250    0        0      187      0      3.5      3   \n",
       "4   41    0   2       130   204    0        2      172      0      1.4      1   \n",
       "\n",
       "  ca thal  heartdisease  \n",
       "0  0    6             0  \n",
       "1  3    3             2  \n",
       "2  2    7             1  \n",
       "3  0    3             0  \n",
       "4  0    3             0  "
      ]
     },
     "execution_count": 12,
     "metadata": {},
     "output_type": "execute_result"
    }
   ],
   "source": [
    "# Display the first few rows of the dataset\n",
    "print(\"Few examples from the dataset:\")\n",
    "heartDisease.head() # print first 5 rows"
   ]
  },
  {
   "cell_type": "code",
   "execution_count": 6,
   "metadata": {},
   "outputs": [
    {
     "name": "stderr",
     "output_type": "stream",
     "text": [
      "WARNING:pgmpy:BayesianModel has been renamed to BayesianNetwork. Please use BayesianNetwork class, BayesianModel will be removed in future.\n"
     ]
    }
   ],
   "source": [
    "# Define Bayesian Network structure\n",
    "Model = BayesianModel(\n",
    "    [\n",
    "        (\"age\", \"trestbps\"),\n",
    "        (\"age\", \"fbs\"),\n",
    "        (\"sex\", \"trestbps\"),\n",
    "        (\"exang\", \"trestbps\"),\n",
    "        (\"trestbps\", \"heartdisease\"),\n",
    "        (\"fbs\", \"heartdisease\"),\n",
    "        (\"heartdisease\", \"restecg\"),\n",
    "        (\"heartdisease\", \"thalach\"),\n",
    "        (\"heartdisease\", \"chol\"),\n",
    "    ]\n",
    ")"
   ]
  },
  {
   "cell_type": "markdown",
   "metadata": {},
   "source": [
    "![imga](imgs\\e4_bayesian_network.png)"
   ]
  },
  {
   "cell_type": "code",
   "execution_count": null,
   "metadata": {},
   "outputs": [
    {
     "name": "stdout",
     "output_type": "stream",
     "text": [
      "\n",
      "Learning CPD using Maximum Likelihood Estimators\n"
     ]
    }
   ],
   "source": [
    "# Learning CPDs using Maximum Likelihood Estimators\n",
    "print(\"\\nLearning CPD using Maximum Likelihood Estimators\")\n",
    "\n",
    "Model.fit(heartDisease, estimator=MaximumLikelihoodEstimator)"
   ]
  },
  {
   "cell_type": "code",
   "execution_count": 8,
   "metadata": {},
   "outputs": [],
   "source": [
    "# Inference with Bayesian Network\n",
    "HeartDisease_infer = VariableElimination(Model)"
   ]
  },
  {
   "cell_type": "code",
   "execution_count": 9,
   "metadata": {},
   "outputs": [
    {
     "name": "stdout",
     "output_type": "stream",
     "text": [
      "Unique ages: [63 67 37 41 56 62 57 53 44 52 48 54 49 64 58 60 50 66 43 40 69 59 42 55\n",
      " 61 65 71 51 46 45 39 68 47 34 35 29 70 77 38 74 76]\n",
      "Unique chol values: [233 286 229 250 204 236 268 354 254 203 192 294 256 263 199 168 239 275\n",
      " 266 211 283 284 224 206 219 340 226 247 167 230 335 234 177 276 353 243\n",
      " 225 302 212 330 175 417 197 198 290 253 172 273 213 305 216 304 188 282\n",
      " 185 232 326 231 269 267 248 360 258 308 245 270 208 264 321 274 325 235\n",
      " 257 164 141 252 255 201 222 260 182 303 265 309 307 249 186 341 183 407\n",
      " 217 288 220 209 227 261 174 281 221 205 240 289 318 298 564 246 322 299\n",
      " 300 293 277 214 207 223 160 394 184 315 409 244 195 196 126 313 259 200\n",
      " 262 215 228 193 271 210 327 149 295 306 178 237 218 242 319 166 180 311\n",
      " 278 342 169 187 157 176 241 131]\n"
     ]
    }
   ],
   "source": [
    "print(\"Unique ages:\", heartDisease[\"age\"].unique())\n",
    "print(\"Unique chol values:\", heartDisease[\"chol\"].unique())"
   ]
  },
  {
   "cell_type": "code",
   "execution_count": 10,
   "metadata": {},
   "outputs": [
    {
     "name": "stderr",
     "output_type": "stream",
     "text": [
      "WARNING:pgmpy:BayesianModel has been renamed to BayesianNetwork. Please use BayesianNetwork class, BayesianModel will be removed in future.\n",
      "WARNING:pgmpy:BayesianModel has been renamed to BayesianNetwork. Please use BayesianNetwork class, BayesianModel will be removed in future.\n"
     ]
    },
    {
     "name": "stdout",
     "output_type": "stream",
     "text": [
      "\n",
      "1. Probability of HeartDisease given Age=35\n",
      "+-----------------+---------------------+\n",
      "| heartdisease    |   phi(heartdisease) |\n",
      "+=================+=====================+\n",
      "| heartdisease(0) |              0.7109 |\n",
      "+-----------------+---------------------+\n",
      "| heartdisease(1) |              0.0945 |\n",
      "+-----------------+---------------------+\n",
      "| heartdisease(2) |              0.0233 |\n",
      "+-----------------+---------------------+\n",
      "| heartdisease(3) |              0.1395 |\n",
      "+-----------------+---------------------+\n",
      "| heartdisease(4) |              0.0319 |\n",
      "+-----------------+---------------------+\n"
     ]
    }
   ],
   "source": [
    "# Computing the Probability of HeartDisease given Age=35\n",
    "print(\"\\n1. Probability of HeartDisease given Age=35\")\n",
    "q1 = HeartDisease_infer.query(variables=[\"heartdisease\"], evidence={\"age\": 35})\n",
    "print(q1)"
   ]
  },
  {
   "cell_type": "code",
   "execution_count": 11,
   "metadata": {},
   "outputs": [
    {
     "name": "stderr",
     "output_type": "stream",
     "text": [
      "WARNING:pgmpy:BayesianModel has been renamed to BayesianNetwork. Please use BayesianNetwork class, BayesianModel will be removed in future.\n",
      "WARNING:pgmpy:BayesianModel has been renamed to BayesianNetwork. Please use BayesianNetwork class, BayesianModel will be removed in future.\n"
     ]
    },
    {
     "name": "stdout",
     "output_type": "stream",
     "text": [
      "\n",
      "2. Probability of HeartDisease given Cholesterol=205\n",
      "+-----------------+---------------------+\n",
      "| heartdisease    |   phi(heartdisease) |\n",
      "+=================+=====================+\n",
      "| heartdisease(0) |              0.4926 |\n",
      "+-----------------+---------------------+\n",
      "| heartdisease(1) |              0.0000 |\n",
      "+-----------------+---------------------+\n",
      "| heartdisease(2) |              0.0000 |\n",
      "+-----------------+---------------------+\n",
      "| heartdisease(3) |              0.5074 |\n",
      "+-----------------+---------------------+\n",
      "| heartdisease(4) |              0.0000 |\n",
      "+-----------------+---------------------+\n"
     ]
    }
   ],
   "source": [
    "# Computing the Probability of HeartDisease given Cholesterol=100\n",
    "print(\"\\n2. Probability of HeartDisease given Cholesterol=205\")\n",
    "q2 = HeartDisease_infer.query(variables=[\"heartdisease\"], evidence={\"chol\": 205})\n",
    "print(q2)"
   ]
  },
  {
   "cell_type": "markdown",
   "metadata": {},
   "source": [
    "### **Final Predictions:**\n",
    "1. **For Age = 35**  \n",
    "   - Highest probability: **No Heart Disease (0.7109 or 71.09%)**\n",
    "   - Lower probabilities for higher heart disease levels.\n",
    "\n",
    "2. **For Cholesterol = 205**  \n",
    "   - `heartdisease(3)` (Severe heart disease) has the highest probability: **0.5074 (50.74%)**\n",
    "   - No chance for `heartdisease(1,2,4)`, moderate chance for `heartdisease(0)`"
   ]
  }
 ],
 "metadata": {
  "kernelspec": {
   "display_name": "Python 3",
   "language": "python",
   "name": "python3"
  },
  "language_info": {
   "codemirror_mode": {
    "name": "ipython",
    "version": 3
   },
   "file_extension": ".py",
   "mimetype": "text/x-python",
   "name": "python",
   "nbconvert_exporter": "python",
   "pygments_lexer": "ipython3",
   "version": "3.13.1"
  }
 },
 "nbformat": 4,
 "nbformat_minor": 2
}
