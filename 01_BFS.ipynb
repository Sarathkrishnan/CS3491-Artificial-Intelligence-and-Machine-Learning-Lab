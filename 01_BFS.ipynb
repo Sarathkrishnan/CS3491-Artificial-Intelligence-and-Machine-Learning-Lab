{
 "cells": [
  {
   "cell_type": "markdown",
   "metadata": {},
   "source": [
    "# Breadth First Search"
   ]
  },
  {
   "cell_type": "markdown",
   "metadata": {},
   "source": [
    "## Implement Queue\n",
    "* Queue is based on FIFO principle"
   ]
  },
  {
   "cell_type": "markdown",
   "metadata": {},
   "source": [
    "# Bredth First Seach Code"
   ]
  },
  {
   "cell_type": "code",
   "execution_count": 2,
   "metadata": {},
   "outputs": [
    {
     "name": "stdout",
     "output_type": "stream",
     "text": [
      "Visited: A\n",
      "Visited: B\n",
      "Visited: C\n",
      "Visited: D\n",
      "Visited: E\n",
      "Goal F found!\n"
     ]
    }
   ],
   "source": [
    "from collections import deque\n",
    "\n",
    "\n",
    "def bfs(graph, start, goal):\n",
    "    # Initialize queue and visited list\n",
    "    queue = deque([start])\n",
    "    visited = set()\n",
    "\n",
    "    while queue:\n",
    "        # Dequeue the first node\n",
    "        current_node = queue.popleft()\n",
    "\n",
    "        # If goal is found, return success\n",
    "        if current_node == goal:\n",
    "            return f\"Goal {goal} found!\"\n",
    "\n",
    "        # If not visited, add to visited set and enqueue neighbors\n",
    "        if current_node not in visited:\n",
    "            visited.add(current_node)\n",
    "            print(f\"Visited: {current_node}\")  # Display visited nodes\n",
    "\n",
    "            for neighbor in graph[current_node]:\n",
    "                if neighbor not in visited:\n",
    "                    queue.append(neighbor)\n",
    "\n",
    "    return \"Goal not found.\"\n",
    "\n",
    "\n",
    "# Example graph represented as an adjacency list\n",
    "graph = {\n",
    "    \"A\": [\"B\", \"C\"],\n",
    "    \"B\": [\"D\", \"E\"],\n",
    "    \"C\": [\"F\", \"G\"],\n",
    "    \"D\": [],\n",
    "    \"E\": [],\n",
    "    \"F\": [],\n",
    "    \"G\": [],\n",
    "}\n",
    "\n",
    "# Starting BFS\n",
    "start_node = \"A\"\n",
    "goal_node = \"F\"\n",
    "print(bfs(graph, start_node, goal_node))"
   ]
  }
 ],
 "metadata": {
  "kernelspec": {
   "display_name": "Python 3",
   "language": "python",
   "name": "python3"
  },
  "language_info": {
   "codemirror_mode": {
    "name": "ipython",
    "version": 3
   },
   "file_extension": ".py",
   "mimetype": "text/x-python",
   "name": "python",
   "nbconvert_exporter": "python",
   "pygments_lexer": "ipython3",
   "version": "3.13.1"
  }
 },
 "nbformat": 4,
 "nbformat_minor": 2
}
